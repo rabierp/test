{
  "nbformat": 4,
  "nbformat_minor": 0,
  "metadata": {
    "colab": {
      "name": "Untitled0.ipynb",
      "provenance": [],
      "include_colab_link": true
    },
    "kernelspec": {
      "name": "python3",
      "display_name": "Python 3"
    }
  },
  "cells": [
    {
      "cell_type": "markdown",
      "metadata": {
        "id": "view-in-github",
        "colab_type": "text"
      },
      "source": [
        "<a href=\"https://colab.research.google.com/github/rabierp/test/blob/master/Untitled0.ipynb\" target=\"_parent\"><img src=\"https://colab.research.google.com/assets/colab-badge.svg\" alt=\"Open In Colab\"/></a>"
      ]
    },
    {
      "cell_type": "code",
      "metadata": {
        "id": "aR3MNt3gzCaK",
        "colab_type": "code",
        "colab": {}
      },
      "source": [
        "!pip3 install ColabTurtle"
      ],
      "execution_count": 0,
      "outputs": []
    },
    {
      "cell_type": "code",
      "metadata": {
        "id": "_HZ05RUjzEVG",
        "colab_type": "code",
        "outputId": "bb50e26e-ccb4-41c0-ab9a-fc1860df98e0",
        "colab": {
          "base_uri": "https://localhost:8080/",
          "height": 130
        }
      },
      "source": [
        "from ColabTurtle.Turtle import *\n",
        "initializeTurtle()      # creates a graphics window\n",
        "\n",
        "dir()\n",
        "\n",
        "forward(50)\n",
        "right(90)     # Rotate clockwise by 90 degrees\n",
        "\n",
        "forward(50)\n",
        "right(90)\n",
        "\n",
        "forward(50)\n",
        "right(90)\n",
        "\n",
        "forward(50)\n",
        "right(90)\n",
        "\n",
        "penup()\n"
      ],
      "execution_count": 9,
      "outputs": [
        {
          "output_type": "error",
          "ename": "SyntaxError",
          "evalue": "ignored",
          "traceback": [
            "\u001b[0;36m  File \u001b[0;32m\"<ipython-input-9-5cc5cc727753>\"\u001b[0;36m, line \u001b[0;32m4\u001b[0m\n\u001b[0;31m    dir?\u001b[0m\n\u001b[0m       ^\u001b[0m\n\u001b[0;31mSyntaxError\u001b[0m\u001b[0;31m:\u001b[0m invalid syntax\n"
          ]
        }
      ]
    },
    {
      "cell_type": "code",
      "metadata": {
        "id": "5X6Vyztv4g2W",
        "colab_type": "code",
        "colab": {}
      },
      "source": [
        ""
      ],
      "execution_count": 0,
      "outputs": []
    }
  ]
}